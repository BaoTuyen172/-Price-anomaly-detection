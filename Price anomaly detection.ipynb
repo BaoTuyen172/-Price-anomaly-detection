{
 "cells": [
  {
   "cell_type": "markdown",
   "metadata": {},
   "source": [
    "# IMPORT DATA"
   ]
  },
  {
   "cell_type": "code",
   "execution_count": 1,
   "metadata": {},
   "outputs": [
    {
     "name": "stdout",
     "output_type": "stream",
     "text": [
      "dataSales_thang1.xlsx\n",
      "dataSales_thang2.xlsx\n",
      "dataSales_thang3.xlsx\n",
      "dataSales_thang4.xlsx\n",
      "dataSales_thang5.xlsx\n",
      "detection.png\n",
      "Price anomaly detection - Jupyter Notebook.html\n",
      "Price anomaly detection - Jupyter Notebook_files\n"
     ]
    }
   ],
   "source": [
    "# import library\n",
    "\n",
    "import pandas as pd \n",
    "\n",
    "import os \n",
    "\n",
    "# Read file name in folder \n",
    "\n",
    "files=[file for file in os.listdir(r'E:\\Python\\checkUOM_DL_BB')] \n",
    "\n",
    "for file in files: \n",
    "    \n",
    "    print(file)"
   ]
  },
  {
   "cell_type": "code",
   "execution_count": 2,
   "metadata": {},
   "outputs": [
    {
     "name": "stdout",
     "output_type": "stream",
     "text": [
      "File names: ['E:\\\\Python\\\\checkUOM_DL_BB\\\\dataSales_thang1.xlsx', 'E:\\\\Python\\\\checkUOM_DL_BB\\\\dataSales_thang2.xlsx', 'E:\\\\Python\\\\checkUOM_DL_BB\\\\dataSales_thang3.xlsx', 'E:\\\\Python\\\\checkUOM_DL_BB\\\\dataSales_thang4.xlsx', 'E:\\\\Python\\\\checkUOM_DL_BB\\\\dataSales_thang5.xlsx']\n",
      "Final Sheet:\n"
     ]
    },
    {
     "data": {
      "text/html": [
       "<div>\n",
       "<style scoped>\n",
       "    .dataframe tbody tr th:only-of-type {\n",
       "        vertical-align: middle;\n",
       "    }\n",
       "\n",
       "    .dataframe tbody tr th {\n",
       "        vertical-align: top;\n",
       "    }\n",
       "\n",
       "    .dataframe thead th {\n",
       "        text-align: right;\n",
       "    }\n",
       "</style>\n",
       "<table border=\"1\" class=\"dataframe\">\n",
       "  <thead>\n",
       "    <tr style=\"text-align: right;\">\n",
       "      <th></th>\n",
       "      <th>số hóa đơn/ chứng từ</th>\n",
       "      <th>ngày xuất</th>\n",
       "      <th>mã KH npp</th>\n",
       "      <th>mã KH bb</th>\n",
       "      <th>tên khách hàng</th>\n",
       "      <th>mã hàng BB</th>\n",
       "      <th>tên hàng</th>\n",
       "      <th>đơn vị bán</th>\n",
       "      <th>số lượng theo đơn vị bán</th>\n",
       "      <th>đơn giá</th>\n",
       "      <th>doanh số</th>\n",
       "    </tr>\n",
       "  </thead>\n",
       "  <tbody>\n",
       "    <tr>\n",
       "      <th>0</th>\n",
       "      <td>1</td>\n",
       "      <td>2022-01-20</td>\n",
       "      <td>customer1</td>\n",
       "      <td>NaN</td>\n",
       "      <td>Bệnh viện 1</td>\n",
       "      <td>product1</td>\n",
       "      <td>a</td>\n",
       "      <td>can</td>\n",
       "      <td>100</td>\n",
       "      <td>170000</td>\n",
       "      <td>17000000</td>\n",
       "    </tr>\n",
       "    <tr>\n",
       "      <th>1</th>\n",
       "      <td>2</td>\n",
       "      <td>2022-01-21</td>\n",
       "      <td>customer2</td>\n",
       "      <td>NaN</td>\n",
       "      <td>Trung tâm a</td>\n",
       "      <td>product2</td>\n",
       "      <td>b</td>\n",
       "      <td>chai</td>\n",
       "      <td>50</td>\n",
       "      <td>77000</td>\n",
       "      <td>3850000</td>\n",
       "    </tr>\n",
       "    <tr>\n",
       "      <th>2</th>\n",
       "      <td>3</td>\n",
       "      <td>2022-01-22</td>\n",
       "      <td>customer3</td>\n",
       "      <td>NaN</td>\n",
       "      <td>phòng khám đa khoa V</td>\n",
       "      <td>product3</td>\n",
       "      <td>c</td>\n",
       "      <td>thùng</td>\n",
       "      <td>30</td>\n",
       "      <td>141000</td>\n",
       "      <td>4230000</td>\n",
       "    </tr>\n",
       "    <tr>\n",
       "      <th>3</th>\n",
       "      <td>4</td>\n",
       "      <td>2022-01-23</td>\n",
       "      <td>customer4</td>\n",
       "      <td>NaN</td>\n",
       "      <td>viện t</td>\n",
       "      <td>product4</td>\n",
       "      <td>d</td>\n",
       "      <td>can</td>\n",
       "      <td>200</td>\n",
       "      <td>172000</td>\n",
       "      <td>34400000</td>\n",
       "    </tr>\n",
       "    <tr>\n",
       "      <th>4</th>\n",
       "      <td>5</td>\n",
       "      <td>2022-01-24</td>\n",
       "      <td>customer5</td>\n",
       "      <td>NaN</td>\n",
       "      <td>thẩm mĩ e</td>\n",
       "      <td>product5</td>\n",
       "      <td>e</td>\n",
       "      <td>thùng</td>\n",
       "      <td>50</td>\n",
       "      <td>135000</td>\n",
       "      <td>6750000</td>\n",
       "    </tr>\n",
       "    <tr>\n",
       "      <th>...</th>\n",
       "      <td>...</td>\n",
       "      <td>...</td>\n",
       "      <td>...</td>\n",
       "      <td>...</td>\n",
       "      <td>...</td>\n",
       "      <td>...</td>\n",
       "      <td>...</td>\n",
       "      <td>...</td>\n",
       "      <td>...</td>\n",
       "      <td>...</td>\n",
       "      <td>...</td>\n",
       "    </tr>\n",
       "    <tr>\n",
       "      <th>78</th>\n",
       "      <td>13</td>\n",
       "      <td>2022-05-25</td>\n",
       "      <td>customer13</td>\n",
       "      <td>NaN</td>\n",
       "      <td>kho hàng r</td>\n",
       "      <td>product13</td>\n",
       "      <td>s</td>\n",
       "      <td>can</td>\n",
       "      <td>50</td>\n",
       "      <td>187000</td>\n",
       "      <td>9350000</td>\n",
       "    </tr>\n",
       "    <tr>\n",
       "      <th>79</th>\n",
       "      <td>14</td>\n",
       "      <td>2022-05-26</td>\n",
       "      <td>customer14</td>\n",
       "      <td>NaN</td>\n",
       "      <td>phòng khám bác sĩ h</td>\n",
       "      <td>product14</td>\n",
       "      <td>x</td>\n",
       "      <td>bộ</td>\n",
       "      <td>40</td>\n",
       "      <td>155000</td>\n",
       "      <td>5640000</td>\n",
       "    </tr>\n",
       "    <tr>\n",
       "      <th>80</th>\n",
       "      <td>15</td>\n",
       "      <td>2022-05-24</td>\n",
       "      <td>customer15</td>\n",
       "      <td>NaN</td>\n",
       "      <td>công ty trang thiết bị y tế k</td>\n",
       "      <td>product15</td>\n",
       "      <td>z</td>\n",
       "      <td>thùng</td>\n",
       "      <td>30</td>\n",
       "      <td>37000</td>\n",
       "      <td>990000</td>\n",
       "    </tr>\n",
       "    <tr>\n",
       "      <th>81</th>\n",
       "      <td>16</td>\n",
       "      <td>2022-05-25</td>\n",
       "      <td>customer16</td>\n",
       "      <td>NaN</td>\n",
       "      <td>viện o</td>\n",
       "      <td>product16</td>\n",
       "      <td>m</td>\n",
       "      <td>thùng</td>\n",
       "      <td>60</td>\n",
       "      <td>50000</td>\n",
       "      <td>3300000</td>\n",
       "    </tr>\n",
       "    <tr>\n",
       "      <th>82</th>\n",
       "      <td>17</td>\n",
       "      <td>2022-05-26</td>\n",
       "      <td>customer17</td>\n",
       "      <td>NaN</td>\n",
       "      <td>trung tâm g</td>\n",
       "      <td>product17</td>\n",
       "      <td>n</td>\n",
       "      <td>chai</td>\n",
       "      <td>500</td>\n",
       "      <td>216000</td>\n",
       "      <td>97000000</td>\n",
       "    </tr>\n",
       "  </tbody>\n",
       "</table>\n",
       "<p>83 rows × 11 columns</p>\n",
       "</div>"
      ],
      "text/plain": [
       "     số hóa đơn/ chứng từ  ngày xuất   mã KH npp  mã KH bb  \\\n",
       "0                       1 2022-01-20   customer1       NaN   \n",
       "1                       2 2022-01-21   customer2       NaN   \n",
       "2                       3 2022-01-22   customer3       NaN   \n",
       "3                       4 2022-01-23   customer4       NaN   \n",
       "4                       5 2022-01-24   customer5       NaN   \n",
       "..                    ...        ...         ...       ...   \n",
       "78                     13 2022-05-25  customer13       NaN   \n",
       "79                     14 2022-05-26  customer14       NaN   \n",
       "80                     15 2022-05-24  customer15       NaN   \n",
       "81                     16 2022-05-25  customer16       NaN   \n",
       "82                     17 2022-05-26  customer17       NaN   \n",
       "\n",
       "                   tên khách hàng mã hàng BB tên hàng đơn vị bán  \\\n",
       "0                     Bệnh viện 1   product1        a        can   \n",
       "1                     Trung tâm a   product2        b       chai   \n",
       "2            phòng khám đa khoa V   product3        c      thùng   \n",
       "3                          viện t   product4        d        can   \n",
       "4                       thẩm mĩ e   product5        e      thùng   \n",
       "..                            ...        ...      ...        ...   \n",
       "78                     kho hàng r  product13        s        can   \n",
       "79            phòng khám bác sĩ h  product14        x         bộ   \n",
       "80  công ty trang thiết bị y tế k  product15        z      thùng   \n",
       "81                         viện o  product16        m      thùng   \n",
       "82                    trung tâm g  product17        n       chai   \n",
       "\n",
       "    số lượng theo đơn vị bán  đơn giá  doanh số  \n",
       "0                        100   170000  17000000  \n",
       "1                         50    77000   3850000  \n",
       "2                         30   141000   4230000  \n",
       "3                        200   172000  34400000  \n",
       "4                         50   135000   6750000  \n",
       "..                       ...      ...       ...  \n",
       "78                        50   187000   9350000  \n",
       "79                        40   155000   5640000  \n",
       "80                        30    37000    990000  \n",
       "81                        60    50000   3300000  \n",
       "82                       500   216000  97000000  \n",
       "\n",
       "[83 rows x 11 columns]"
      ]
     },
     "metadata": {},
     "output_type": "display_data"
    }
   ],
   "source": [
    "#import modules\n",
    "import glob\n",
    "\n",
    "# path of the folder\n",
    "path = r'E:\\Python\\checkUOM_DL_BB'\n",
    "\n",
    "# reading all the excel files\n",
    "filenames = glob.glob(path + \"\\*.xlsx\")\n",
    "print('File names:', filenames)\n",
    "\n",
    "# initializing empty data frame\n",
    "finalexcelsheet = pd.DataFrame()\n",
    "\n",
    "# to iterate excel file one by one\n",
    "# inside the folder\n",
    "for file in filenames:\n",
    "    # combining multiple excel worksheets\n",
    "    # into single data frames\n",
    "    df = pd.concat(pd.read_excel(file, sheet_name=None), ignore_index=True, sort=False)\n",
    "\n",
    "    # appending excel files one by one\n",
    "    finalexcelsheet = finalexcelsheet.append(\n",
    "    df, ignore_index=True)\n",
    "    \n",
    "\n",
    "\n",
    "\n",
    "# to print the combined data\n",
    "print('Final Sheet:')\n",
    "display(finalexcelsheet)\n",
    "\n",
    "finalexcelsheet.to_excel(r'Final.xlsx', index=False)"
   ]
  },
  {
   "cell_type": "code",
   "execution_count": 3,
   "metadata": {},
   "outputs": [],
   "source": [
    "all_data=pd.read_excel(r'Final.xlsx')"
   ]
  },
  {
   "cell_type": "code",
   "execution_count": 4,
   "metadata": {},
   "outputs": [
    {
     "data": {
      "text/html": [
       "<div>\n",
       "<style scoped>\n",
       "    .dataframe tbody tr th:only-of-type {\n",
       "        vertical-align: middle;\n",
       "    }\n",
       "\n",
       "    .dataframe tbody tr th {\n",
       "        vertical-align: top;\n",
       "    }\n",
       "\n",
       "    .dataframe thead th {\n",
       "        text-align: right;\n",
       "    }\n",
       "</style>\n",
       "<table border=\"1\" class=\"dataframe\">\n",
       "  <thead>\n",
       "    <tr style=\"text-align: right;\">\n",
       "      <th></th>\n",
       "      <th>số hóa đơn/ chứng từ</th>\n",
       "      <th>ngày xuất</th>\n",
       "      <th>mã KH npp</th>\n",
       "      <th>mã KH bb</th>\n",
       "      <th>tên khách hàng</th>\n",
       "      <th>mã hàng BB</th>\n",
       "      <th>tên hàng</th>\n",
       "      <th>đơn vị bán</th>\n",
       "      <th>số lượng theo đơn vị bán</th>\n",
       "      <th>đơn giá</th>\n",
       "      <th>doanh số</th>\n",
       "    </tr>\n",
       "  </thead>\n",
       "  <tbody>\n",
       "    <tr>\n",
       "      <th>0</th>\n",
       "      <td>1</td>\n",
       "      <td>2022-01-20</td>\n",
       "      <td>customer1</td>\n",
       "      <td>NaN</td>\n",
       "      <td>Bệnh viện 1</td>\n",
       "      <td>product1</td>\n",
       "      <td>a</td>\n",
       "      <td>can</td>\n",
       "      <td>100</td>\n",
       "      <td>170000</td>\n",
       "      <td>17000000</td>\n",
       "    </tr>\n",
       "    <tr>\n",
       "      <th>1</th>\n",
       "      <td>2</td>\n",
       "      <td>2022-01-21</td>\n",
       "      <td>customer2</td>\n",
       "      <td>NaN</td>\n",
       "      <td>Trung tâm a</td>\n",
       "      <td>product2</td>\n",
       "      <td>b</td>\n",
       "      <td>chai</td>\n",
       "      <td>50</td>\n",
       "      <td>77000</td>\n",
       "      <td>3850000</td>\n",
       "    </tr>\n",
       "    <tr>\n",
       "      <th>2</th>\n",
       "      <td>3</td>\n",
       "      <td>2022-01-22</td>\n",
       "      <td>customer3</td>\n",
       "      <td>NaN</td>\n",
       "      <td>phòng khám đa khoa V</td>\n",
       "      <td>product3</td>\n",
       "      <td>c</td>\n",
       "      <td>thùng</td>\n",
       "      <td>30</td>\n",
       "      <td>141000</td>\n",
       "      <td>4230000</td>\n",
       "    </tr>\n",
       "    <tr>\n",
       "      <th>3</th>\n",
       "      <td>4</td>\n",
       "      <td>2022-01-23</td>\n",
       "      <td>customer4</td>\n",
       "      <td>NaN</td>\n",
       "      <td>viện t</td>\n",
       "      <td>product4</td>\n",
       "      <td>d</td>\n",
       "      <td>can</td>\n",
       "      <td>200</td>\n",
       "      <td>172000</td>\n",
       "      <td>34400000</td>\n",
       "    </tr>\n",
       "    <tr>\n",
       "      <th>4</th>\n",
       "      <td>5</td>\n",
       "      <td>2022-01-24</td>\n",
       "      <td>customer5</td>\n",
       "      <td>NaN</td>\n",
       "      <td>thẩm mĩ e</td>\n",
       "      <td>product5</td>\n",
       "      <td>e</td>\n",
       "      <td>thùng</td>\n",
       "      <td>50</td>\n",
       "      <td>135000</td>\n",
       "      <td>6750000</td>\n",
       "    </tr>\n",
       "    <tr>\n",
       "      <th>...</th>\n",
       "      <td>...</td>\n",
       "      <td>...</td>\n",
       "      <td>...</td>\n",
       "      <td>...</td>\n",
       "      <td>...</td>\n",
       "      <td>...</td>\n",
       "      <td>...</td>\n",
       "      <td>...</td>\n",
       "      <td>...</td>\n",
       "      <td>...</td>\n",
       "      <td>...</td>\n",
       "    </tr>\n",
       "    <tr>\n",
       "      <th>78</th>\n",
       "      <td>13</td>\n",
       "      <td>2022-05-25</td>\n",
       "      <td>customer13</td>\n",
       "      <td>NaN</td>\n",
       "      <td>kho hàng r</td>\n",
       "      <td>product13</td>\n",
       "      <td>s</td>\n",
       "      <td>can</td>\n",
       "      <td>50</td>\n",
       "      <td>187000</td>\n",
       "      <td>9350000</td>\n",
       "    </tr>\n",
       "    <tr>\n",
       "      <th>79</th>\n",
       "      <td>14</td>\n",
       "      <td>2022-05-26</td>\n",
       "      <td>customer14</td>\n",
       "      <td>NaN</td>\n",
       "      <td>phòng khám bác sĩ h</td>\n",
       "      <td>product14</td>\n",
       "      <td>x</td>\n",
       "      <td>bộ</td>\n",
       "      <td>40</td>\n",
       "      <td>155000</td>\n",
       "      <td>5640000</td>\n",
       "    </tr>\n",
       "    <tr>\n",
       "      <th>80</th>\n",
       "      <td>15</td>\n",
       "      <td>2022-05-24</td>\n",
       "      <td>customer15</td>\n",
       "      <td>NaN</td>\n",
       "      <td>công ty trang thiết bị y tế k</td>\n",
       "      <td>product15</td>\n",
       "      <td>z</td>\n",
       "      <td>thùng</td>\n",
       "      <td>30</td>\n",
       "      <td>37000</td>\n",
       "      <td>990000</td>\n",
       "    </tr>\n",
       "    <tr>\n",
       "      <th>81</th>\n",
       "      <td>16</td>\n",
       "      <td>2022-05-25</td>\n",
       "      <td>customer16</td>\n",
       "      <td>NaN</td>\n",
       "      <td>viện o</td>\n",
       "      <td>product16</td>\n",
       "      <td>m</td>\n",
       "      <td>thùng</td>\n",
       "      <td>60</td>\n",
       "      <td>50000</td>\n",
       "      <td>3300000</td>\n",
       "    </tr>\n",
       "    <tr>\n",
       "      <th>82</th>\n",
       "      <td>17</td>\n",
       "      <td>2022-05-26</td>\n",
       "      <td>customer17</td>\n",
       "      <td>NaN</td>\n",
       "      <td>trung tâm g</td>\n",
       "      <td>product17</td>\n",
       "      <td>n</td>\n",
       "      <td>chai</td>\n",
       "      <td>500</td>\n",
       "      <td>216000</td>\n",
       "      <td>97000000</td>\n",
       "    </tr>\n",
       "  </tbody>\n",
       "</table>\n",
       "<p>83 rows × 11 columns</p>\n",
       "</div>"
      ],
      "text/plain": [
       "     số hóa đơn/ chứng từ  ngày xuất   mã KH npp  mã KH bb  \\\n",
       "0                       1 2022-01-20   customer1       NaN   \n",
       "1                       2 2022-01-21   customer2       NaN   \n",
       "2                       3 2022-01-22   customer3       NaN   \n",
       "3                       4 2022-01-23   customer4       NaN   \n",
       "4                       5 2022-01-24   customer5       NaN   \n",
       "..                    ...        ...         ...       ...   \n",
       "78                     13 2022-05-25  customer13       NaN   \n",
       "79                     14 2022-05-26  customer14       NaN   \n",
       "80                     15 2022-05-24  customer15       NaN   \n",
       "81                     16 2022-05-25  customer16       NaN   \n",
       "82                     17 2022-05-26  customer17       NaN   \n",
       "\n",
       "                   tên khách hàng mã hàng BB tên hàng đơn vị bán  \\\n",
       "0                     Bệnh viện 1   product1        a        can   \n",
       "1                     Trung tâm a   product2        b       chai   \n",
       "2            phòng khám đa khoa V   product3        c      thùng   \n",
       "3                          viện t   product4        d        can   \n",
       "4                       thẩm mĩ e   product5        e      thùng   \n",
       "..                            ...        ...      ...        ...   \n",
       "78                     kho hàng r  product13        s        can   \n",
       "79            phòng khám bác sĩ h  product14        x         bộ   \n",
       "80  công ty trang thiết bị y tế k  product15        z      thùng   \n",
       "81                         viện o  product16        m      thùng   \n",
       "82                    trung tâm g  product17        n       chai   \n",
       "\n",
       "    số lượng theo đơn vị bán  đơn giá  doanh số  \n",
       "0                        100   170000  17000000  \n",
       "1                         50    77000   3850000  \n",
       "2                         30   141000   4230000  \n",
       "3                        200   172000  34400000  \n",
       "4                         50   135000   6750000  \n",
       "..                       ...      ...       ...  \n",
       "78                        50   187000   9350000  \n",
       "79                        40   155000   5640000  \n",
       "80                        30    37000    990000  \n",
       "81                        60    50000   3300000  \n",
       "82                       500   216000  97000000  \n",
       "\n",
       "[83 rows x 11 columns]"
      ]
     },
     "execution_count": 4,
     "metadata": {},
     "output_type": "execute_result"
    }
   ],
   "source": [
    "all_data.head(100)"
   ]
  },
  {
   "cell_type": "code",
   "execution_count": 5,
   "metadata": {},
   "outputs": [],
   "source": [
    "# add month column\n",
    "import datetime as dt\n",
    "all_data['Month']=pd.DatetimeIndex(all_data['ngày xuất']).month"
   ]
  },
  {
   "cell_type": "markdown",
   "metadata": {},
   "source": [
    "### REMOVE ACCENTS"
   ]
  },
  {
   "cell_type": "code",
   "execution_count": 6,
   "metadata": {},
   "outputs": [
    {
     "name": "stdout",
     "output_type": "stream",
     "text": [
      "Requirement already satisfied: Unidecode in c:\\users\\tuyen\\anaconda3\\lib\\site-packages (1.3.4)\n"
     ]
    }
   ],
   "source": [
    "# import library to remove accents\n",
    "!pip install Unidecode\n",
    "import unidecode"
   ]
  },
  {
   "cell_type": "code",
   "execution_count": 7,
   "metadata": {},
   "outputs": [
    {
     "name": "stdout",
     "output_type": "stream",
     "text": [
      "[' so hoa don/ chung tu', 'ngay xuat', 'ma KH npp', 'ma KH bb', 'ten khach hang', 'ma hang BB', 'ten hang', 'don vi ban', 'so luong theo don vi ban', 'don gia', 'doanh so', 'Month']\n"
     ]
    }
   ],
   "source": [
    "new_columnName=[]\n",
    "list=all_data.columns.values.tolist()\n",
    "for i in range(len(list)):\n",
    "    item=unidecode.unidecode(list[i])\n",
    "    new_columnName.append(item)\n",
    "print(new_columnName)"
   ]
  },
  {
   "cell_type": "code",
   "execution_count": 8,
   "metadata": {},
   "outputs": [
    {
     "data": {
      "text/html": [
       "<div>\n",
       "<style scoped>\n",
       "    .dataframe tbody tr th:only-of-type {\n",
       "        vertical-align: middle;\n",
       "    }\n",
       "\n",
       "    .dataframe tbody tr th {\n",
       "        vertical-align: top;\n",
       "    }\n",
       "\n",
       "    .dataframe thead th {\n",
       "        text-align: right;\n",
       "    }\n",
       "</style>\n",
       "<table border=\"1\" class=\"dataframe\">\n",
       "  <thead>\n",
       "    <tr style=\"text-align: right;\">\n",
       "      <th></th>\n",
       "      <th>so hoa don/ chung tu</th>\n",
       "      <th>ngay xuat</th>\n",
       "      <th>ma KH npp</th>\n",
       "      <th>ma KH bb</th>\n",
       "      <th>ten khach hang</th>\n",
       "      <th>ma hang BB</th>\n",
       "      <th>ten hang</th>\n",
       "      <th>don vi ban</th>\n",
       "      <th>so luong theo don vi ban</th>\n",
       "      <th>don gia</th>\n",
       "      <th>doanh so</th>\n",
       "      <th>Month</th>\n",
       "    </tr>\n",
       "  </thead>\n",
       "  <tbody>\n",
       "    <tr>\n",
       "      <th>0</th>\n",
       "      <td>1</td>\n",
       "      <td>2022-01-20</td>\n",
       "      <td>customer1</td>\n",
       "      <td>NaN</td>\n",
       "      <td>Bệnh viện 1</td>\n",
       "      <td>product1</td>\n",
       "      <td>a</td>\n",
       "      <td>can</td>\n",
       "      <td>100</td>\n",
       "      <td>170000</td>\n",
       "      <td>17000000</td>\n",
       "      <td>1</td>\n",
       "    </tr>\n",
       "    <tr>\n",
       "      <th>1</th>\n",
       "      <td>2</td>\n",
       "      <td>2022-01-21</td>\n",
       "      <td>customer2</td>\n",
       "      <td>NaN</td>\n",
       "      <td>Trung tâm a</td>\n",
       "      <td>product2</td>\n",
       "      <td>b</td>\n",
       "      <td>chai</td>\n",
       "      <td>50</td>\n",
       "      <td>77000</td>\n",
       "      <td>3850000</td>\n",
       "      <td>1</td>\n",
       "    </tr>\n",
       "    <tr>\n",
       "      <th>2</th>\n",
       "      <td>3</td>\n",
       "      <td>2022-01-22</td>\n",
       "      <td>customer3</td>\n",
       "      <td>NaN</td>\n",
       "      <td>phòng khám đa khoa V</td>\n",
       "      <td>product3</td>\n",
       "      <td>c</td>\n",
       "      <td>thùng</td>\n",
       "      <td>30</td>\n",
       "      <td>141000</td>\n",
       "      <td>4230000</td>\n",
       "      <td>1</td>\n",
       "    </tr>\n",
       "    <tr>\n",
       "      <th>3</th>\n",
       "      <td>4</td>\n",
       "      <td>2022-01-23</td>\n",
       "      <td>customer4</td>\n",
       "      <td>NaN</td>\n",
       "      <td>viện t</td>\n",
       "      <td>product4</td>\n",
       "      <td>d</td>\n",
       "      <td>can</td>\n",
       "      <td>200</td>\n",
       "      <td>172000</td>\n",
       "      <td>34400000</td>\n",
       "      <td>1</td>\n",
       "    </tr>\n",
       "    <tr>\n",
       "      <th>4</th>\n",
       "      <td>5</td>\n",
       "      <td>2022-01-24</td>\n",
       "      <td>customer5</td>\n",
       "      <td>NaN</td>\n",
       "      <td>thẩm mĩ e</td>\n",
       "      <td>product5</td>\n",
       "      <td>e</td>\n",
       "      <td>thùng</td>\n",
       "      <td>50</td>\n",
       "      <td>135000</td>\n",
       "      <td>6750000</td>\n",
       "      <td>1</td>\n",
       "    </tr>\n",
       "  </tbody>\n",
       "</table>\n",
       "</div>"
      ],
      "text/plain": [
       "    so hoa don/ chung tu  ngay xuat  ma KH npp  ma KH bb  \\\n",
       "0                      1 2022-01-20  customer1       NaN   \n",
       "1                      2 2022-01-21  customer2       NaN   \n",
       "2                      3 2022-01-22  customer3       NaN   \n",
       "3                      4 2022-01-23  customer4       NaN   \n",
       "4                      5 2022-01-24  customer5       NaN   \n",
       "\n",
       "         ten khach hang ma hang BB ten hang don vi ban  \\\n",
       "0           Bệnh viện 1   product1        a        can   \n",
       "1           Trung tâm a   product2        b       chai   \n",
       "2  phòng khám đa khoa V   product3        c      thùng   \n",
       "3                viện t   product4        d        can   \n",
       "4             thẩm mĩ e   product5        e      thùng   \n",
       "\n",
       "   so luong theo don vi ban  don gia  doanh so  Month  \n",
       "0                       100   170000  17000000      1  \n",
       "1                        50    77000   3850000      1  \n",
       "2                        30   141000   4230000      1  \n",
       "3                       200   172000  34400000      1  \n",
       "4                        50   135000   6750000      1  "
      ]
     },
     "execution_count": 8,
     "metadata": {},
     "output_type": "execute_result"
    }
   ],
   "source": [
    "column_indices = []\n",
    "for i in range(len(list)):\n",
    "    index=i\n",
    "    column_indices.append(index)\n",
    "old_names = all_data.columns[column_indices]\n",
    "all_data.rename(columns=dict(zip(old_names, new_columnName)), inplace=True)\n",
    "all_data.head(5)"
   ]
  },
  {
   "cell_type": "code",
   "execution_count": 9,
   "metadata": {},
   "outputs": [],
   "source": [
    "data_copy=all_data.copy()\n"
   ]
  },
  {
   "cell_type": "code",
   "execution_count": 10,
   "metadata": {},
   "outputs": [],
   "source": [
    "# remove accents\n",
    "data_copy.replace({'[éèẻẽẹêếềểễệ]': 'e','[ÚÙỦŨỤƯỨỪỬỮỰ]': 'U','[ÁÀẢÃẠĂẮẰẲẴẶÂẤẦẨẪẬ]': 'A','[ÉÈẺẼẸÊẾỀỂỄỆ]': 'E',\n",
    "                  '[óòỏõọôốồổỗộơớờởỡợ]': 'o','[ÓÒỎÕỌÔỐỒỔỖỘƠỚỜỞỠỢ]': 'O','[íìỉĩị]': 'i','[ÍÌỈĨỊ]': 'I',\n",
    "                  '[úùủũụưứừửữự]': 'u','[ýỳỷỹỵ]': 'y','đ': 'd','[ÝỲỶỸỴ]': 'Y','Đ': 'D'}, regex=True, inplace=True)\n",
    "\n"
   ]
  },
  {
   "cell_type": "code",
   "execution_count": 11,
   "metadata": {},
   "outputs": [
    {
     "data": {
      "text/html": [
       "<div>\n",
       "<style scoped>\n",
       "    .dataframe tbody tr th:only-of-type {\n",
       "        vertical-align: middle;\n",
       "    }\n",
       "\n",
       "    .dataframe tbody tr th {\n",
       "        vertical-align: top;\n",
       "    }\n",
       "\n",
       "    .dataframe thead th {\n",
       "        text-align: right;\n",
       "    }\n",
       "</style>\n",
       "<table border=\"1\" class=\"dataframe\">\n",
       "  <thead>\n",
       "    <tr style=\"text-align: right;\">\n",
       "      <th></th>\n",
       "      <th>so hoa don/ chung tu</th>\n",
       "      <th>ngay xuat</th>\n",
       "      <th>ma KH npp</th>\n",
       "      <th>ma KH bb</th>\n",
       "      <th>ten khach hang</th>\n",
       "      <th>ma hang BB</th>\n",
       "      <th>ten hang</th>\n",
       "      <th>don vi ban</th>\n",
       "      <th>so luong theo don vi ban</th>\n",
       "      <th>don gia</th>\n",
       "      <th>doanh so</th>\n",
       "      <th>Month</th>\n",
       "    </tr>\n",
       "  </thead>\n",
       "  <tbody>\n",
       "    <tr>\n",
       "      <th>0</th>\n",
       "      <td>1</td>\n",
       "      <td>2022-01-20</td>\n",
       "      <td>customer1</td>\n",
       "      <td>NaN</td>\n",
       "      <td>benh vien 1</td>\n",
       "      <td>product1</td>\n",
       "      <td>a</td>\n",
       "      <td>can</td>\n",
       "      <td>100</td>\n",
       "      <td>170000</td>\n",
       "      <td>17000000</td>\n",
       "      <td>1</td>\n",
       "    </tr>\n",
       "    <tr>\n",
       "      <th>1</th>\n",
       "      <td>2</td>\n",
       "      <td>2022-01-21</td>\n",
       "      <td>customer2</td>\n",
       "      <td>NaN</td>\n",
       "      <td>trung tâm a</td>\n",
       "      <td>product2</td>\n",
       "      <td>b</td>\n",
       "      <td>chai</td>\n",
       "      <td>50</td>\n",
       "      <td>77000</td>\n",
       "      <td>3850000</td>\n",
       "      <td>1</td>\n",
       "    </tr>\n",
       "    <tr>\n",
       "      <th>2</th>\n",
       "      <td>3</td>\n",
       "      <td>2022-01-22</td>\n",
       "      <td>customer3</td>\n",
       "      <td>NaN</td>\n",
       "      <td>phong khám da khoa v</td>\n",
       "      <td>product3</td>\n",
       "      <td>c</td>\n",
       "      <td>thung</td>\n",
       "      <td>30</td>\n",
       "      <td>141000</td>\n",
       "      <td>4230000</td>\n",
       "      <td>1</td>\n",
       "    </tr>\n",
       "    <tr>\n",
       "      <th>3</th>\n",
       "      <td>4</td>\n",
       "      <td>2022-01-23</td>\n",
       "      <td>customer4</td>\n",
       "      <td>NaN</td>\n",
       "      <td>vien t</td>\n",
       "      <td>product4</td>\n",
       "      <td>d</td>\n",
       "      <td>can</td>\n",
       "      <td>200</td>\n",
       "      <td>172000</td>\n",
       "      <td>34400000</td>\n",
       "      <td>1</td>\n",
       "    </tr>\n",
       "    <tr>\n",
       "      <th>4</th>\n",
       "      <td>5</td>\n",
       "      <td>2022-01-24</td>\n",
       "      <td>customer5</td>\n",
       "      <td>NaN</td>\n",
       "      <td>thẩm mi e</td>\n",
       "      <td>product5</td>\n",
       "      <td>e</td>\n",
       "      <td>thung</td>\n",
       "      <td>50</td>\n",
       "      <td>135000</td>\n",
       "      <td>6750000</td>\n",
       "      <td>1</td>\n",
       "    </tr>\n",
       "  </tbody>\n",
       "</table>\n",
       "</div>"
      ],
      "text/plain": [
       "    so hoa don/ chung tu  ngay xuat  ma KH npp  ma KH bb  \\\n",
       "0                      1 2022-01-20  customer1       NaN   \n",
       "1                      2 2022-01-21  customer2       NaN   \n",
       "2                      3 2022-01-22  customer3       NaN   \n",
       "3                      4 2022-01-23  customer4       NaN   \n",
       "4                      5 2022-01-24  customer5       NaN   \n",
       "\n",
       "         ten khach hang ma hang BB ten hang don vi ban  \\\n",
       "0           benh vien 1   product1        a        can   \n",
       "1           trung tâm a   product2        b       chai   \n",
       "2  phong khám da khoa v   product3        c      thung   \n",
       "3                vien t   product4        d        can   \n",
       "4             thẩm mi e   product5        e      thung   \n",
       "\n",
       "   so luong theo don vi ban  don gia  doanh so  Month  \n",
       "0                       100   170000  17000000      1  \n",
       "1                        50    77000   3850000      1  \n",
       "2                        30   141000   4230000      1  \n",
       "3                       200   172000  34400000      1  \n",
       "4                        50   135000   6750000      1  "
      ]
     },
     "execution_count": 11,
     "metadata": {},
     "output_type": "execute_result"
    }
   ],
   "source": [
    "data_copy['ten khach hang'] = data_copy['ten khach hang'].apply(lambda x:x.lower())\n",
    "data_copy.head(5)"
   ]
  },
  {
   "cell_type": "markdown",
   "metadata": {},
   "source": [
    "# MAPPING DATA"
   ]
  },
  {
   "cell_type": "code",
   "execution_count": 12,
   "metadata": {},
   "outputs": [],
   "source": [
    "master_data=pd.read_excel(r'E:\\Python\\Master_data.xlsx')"
   ]
  },
  {
   "cell_type": "code",
   "execution_count": 13,
   "metadata": {},
   "outputs": [
    {
     "data": {
      "text/html": [
       "<div>\n",
       "<style scoped>\n",
       "    .dataframe tbody tr th:only-of-type {\n",
       "        vertical-align: middle;\n",
       "    }\n",
       "\n",
       "    .dataframe tbody tr th {\n",
       "        vertical-align: top;\n",
       "    }\n",
       "\n",
       "    .dataframe thead th {\n",
       "        text-align: right;\n",
       "    }\n",
       "</style>\n",
       "<table border=\"1\" class=\"dataframe\">\n",
       "  <thead>\n",
       "    <tr style=\"text-align: right;\">\n",
       "      <th></th>\n",
       "      <th>so hoa don/ chung tu</th>\n",
       "      <th>ngay xuat</th>\n",
       "      <th>ma KH npp</th>\n",
       "      <th>ma KH bb</th>\n",
       "      <th>ten khach hang</th>\n",
       "      <th>ma hang BB</th>\n",
       "      <th>ten hang</th>\n",
       "      <th>don vi ban</th>\n",
       "      <th>so luong theo don vi ban</th>\n",
       "      <th>don gia</th>\n",
       "      <th>doanh so</th>\n",
       "      <th>Month</th>\n",
       "      <th>Product ID</th>\n",
       "      <th>Price</th>\n",
       "    </tr>\n",
       "  </thead>\n",
       "  <tbody>\n",
       "    <tr>\n",
       "      <th>0</th>\n",
       "      <td>1</td>\n",
       "      <td>2022-01-20</td>\n",
       "      <td>customer1</td>\n",
       "      <td>NaN</td>\n",
       "      <td>Bệnh viện 1</td>\n",
       "      <td>product1</td>\n",
       "      <td>a</td>\n",
       "      <td>can</td>\n",
       "      <td>100</td>\n",
       "      <td>170000</td>\n",
       "      <td>17000000</td>\n",
       "      <td>1</td>\n",
       "      <td>product1</td>\n",
       "      <td>170000</td>\n",
       "    </tr>\n",
       "    <tr>\n",
       "      <th>1</th>\n",
       "      <td>2</td>\n",
       "      <td>2022-01-21</td>\n",
       "      <td>customer2</td>\n",
       "      <td>NaN</td>\n",
       "      <td>Trung tâm a</td>\n",
       "      <td>product2</td>\n",
       "      <td>b</td>\n",
       "      <td>chai</td>\n",
       "      <td>50</td>\n",
       "      <td>77000</td>\n",
       "      <td>3850000</td>\n",
       "      <td>1</td>\n",
       "      <td>product2</td>\n",
       "      <td>77000</td>\n",
       "    </tr>\n",
       "    <tr>\n",
       "      <th>2</th>\n",
       "      <td>3</td>\n",
       "      <td>2022-01-22</td>\n",
       "      <td>customer3</td>\n",
       "      <td>NaN</td>\n",
       "      <td>phòng khám đa khoa V</td>\n",
       "      <td>product3</td>\n",
       "      <td>c</td>\n",
       "      <td>thùng</td>\n",
       "      <td>30</td>\n",
       "      <td>141000</td>\n",
       "      <td>4230000</td>\n",
       "      <td>1</td>\n",
       "      <td>product3</td>\n",
       "      <td>141000</td>\n",
       "    </tr>\n",
       "    <tr>\n",
       "      <th>3</th>\n",
       "      <td>4</td>\n",
       "      <td>2022-01-23</td>\n",
       "      <td>customer4</td>\n",
       "      <td>NaN</td>\n",
       "      <td>viện t</td>\n",
       "      <td>product4</td>\n",
       "      <td>d</td>\n",
       "      <td>can</td>\n",
       "      <td>200</td>\n",
       "      <td>172000</td>\n",
       "      <td>34400000</td>\n",
       "      <td>1</td>\n",
       "      <td>product4</td>\n",
       "      <td>172000</td>\n",
       "    </tr>\n",
       "    <tr>\n",
       "      <th>4</th>\n",
       "      <td>5</td>\n",
       "      <td>2022-01-24</td>\n",
       "      <td>customer5</td>\n",
       "      <td>NaN</td>\n",
       "      <td>thẩm mĩ e</td>\n",
       "      <td>product5</td>\n",
       "      <td>e</td>\n",
       "      <td>thùng</td>\n",
       "      <td>50</td>\n",
       "      <td>135000</td>\n",
       "      <td>6750000</td>\n",
       "      <td>1</td>\n",
       "      <td>product5</td>\n",
       "      <td>135000</td>\n",
       "    </tr>\n",
       "  </tbody>\n",
       "</table>\n",
       "</div>"
      ],
      "text/plain": [
       "    so hoa don/ chung tu  ngay xuat  ma KH npp  ma KH bb  \\\n",
       "0                      1 2022-01-20  customer1       NaN   \n",
       "1                      2 2022-01-21  customer2       NaN   \n",
       "2                      3 2022-01-22  customer3       NaN   \n",
       "3                      4 2022-01-23  customer4       NaN   \n",
       "4                      5 2022-01-24  customer5       NaN   \n",
       "\n",
       "         ten khach hang ma hang BB ten hang don vi ban  \\\n",
       "0           Bệnh viện 1   product1        a        can   \n",
       "1           Trung tâm a   product2        b       chai   \n",
       "2  phòng khám đa khoa V   product3        c      thùng   \n",
       "3                viện t   product4        d        can   \n",
       "4             thẩm mĩ e   product5        e      thùng   \n",
       "\n",
       "   so luong theo don vi ban  don gia  doanh so  Month Product ID   Price  \n",
       "0                       100   170000  17000000      1   product1  170000  \n",
       "1                        50    77000   3850000      1   product2   77000  \n",
       "2                        30   141000   4230000      1   product3  141000  \n",
       "3                       200   172000  34400000      1   product4  172000  \n",
       "4                        50   135000   6750000      1   product5  135000  "
      ]
     },
     "execution_count": 13,
     "metadata": {},
     "output_type": "execute_result"
    }
   ],
   "source": [
    "data = pd.merge(all_data, master_data, left_on='ma hang BB',right_on='Product ID',how='left',suffixes=('_left','_right'))\n",
    "data.head(5)"
   ]
  },
  {
   "cell_type": "code",
   "execution_count": 14,
   "metadata": {},
   "outputs": [
    {
     "data": {
      "text/plain": [
       " so hoa don/ chung tu        0\n",
       "ngay xuat                    0\n",
       "ma KH npp                    0\n",
       "ma KH bb                    83\n",
       "ten khach hang               0\n",
       "ma hang BB                   0\n",
       "ten hang                     0\n",
       "don vi ban                   0\n",
       "so luong theo don vi ban     0\n",
       "don gia                      0\n",
       "doanh so                     0\n",
       "Month                        0\n",
       "Product ID                   0\n",
       "Price                        0\n",
       "dtype: int64"
      ]
     },
     "execution_count": 14,
     "metadata": {},
     "output_type": "execute_result"
    }
   ],
   "source": [
    "# check unmapping data\n",
    "data.isna().sum()"
   ]
  },
  {
   "cell_type": "markdown",
   "metadata": {},
   "source": [
    "# PRICING TREND"
   ]
  },
  {
   "cell_type": "code",
   "execution_count": 15,
   "metadata": {},
   "outputs": [],
   "source": [
    "import numpy as np\n",
    "PriceByMonth=pd.pivot_table(data,index=['Month'],columns='ma hang BB',values=['don gia'], aggfunc=np.mean)"
   ]
  },
  {
   "cell_type": "code",
   "execution_count": 16,
   "metadata": {},
   "outputs": [
    {
     "name": "stdout",
     "output_type": "stream",
     "text": [
      "             don gia                                                    \\\n",
      "ma hang BB  product1 product10 product11 product12 product13 product14   \n",
      "Month                                                                    \n",
      "1           170000.0  104000.0  105000.0   43000.0  187000.0  141000.0   \n",
      "2           175000.0  105000.0  100000.0   50000.0  183333.0       NaN   \n",
      "3            44000.0  100800.0  108000.0   41000.0  188000.0  142000.0   \n",
      "4           175000.0  114000.0  125000.0   55000.0  167000.0   11000.0   \n",
      "5           172000.0  100000.0  100000.0   48000.0  187000.0  155000.0   \n",
      "\n",
      "                                                                       \\\n",
      "ma hang BB product15 product16 product17 product2  product3  product4   \n",
      "Month                                                                   \n",
      "1            33000.0   55000.0  194000.0  77000.0  141000.0  172000.0   \n",
      "2            40000.0   45000.0       NaN  80000.0       NaN  170000.0   \n",
      "3            34000.0   56000.0  199000.0  78000.0  145000.0  162000.0   \n",
      "4            33000.0   45000.0  196000.0  79000.0  151000.0  162000.0   \n",
      "5            37000.0   50000.0  216000.0   7000.0  155000.0  170000.0   \n",
      "\n",
      "                                                          \n",
      "ma hang BB  product5 product6 product7 product8 product9  \n",
      "Month                                                     \n",
      "1           135000.0  36000.0  73600.0  77300.0  62000.0  \n",
      "2           145000.0  37000.0      NaN  77000.0  60000.0  \n",
      "3           135800.0  36700.0  76600.0  78300.0  70000.0  \n",
      "4           145000.0  38000.0  75600.0  78300.0  60000.0  \n",
      "5           141000.0  45000.0  77900.0  78000.0  65000.0  \n"
     ]
    }
   ],
   "source": [
    "with pd.option_context('display.max_rows', None,):\n",
    "    print(PriceByMonth.round(0))\n"
   ]
  },
  {
   "cell_type": "code",
   "execution_count": 17,
   "metadata": {},
   "outputs": [
    {
     "name": "stdout",
     "output_type": "stream",
     "text": [
      "[('don gia', 'product1'), ('don gia', 'product10'), ('don gia', 'product11'), ('don gia', 'product12'), ('don gia', 'product13'), ('don gia', 'product14'), ('don gia', 'product15'), ('don gia', 'product16'), ('don gia', 'product17'), ('don gia', 'product2'), ('don gia', 'product3'), ('don gia', 'product4'), ('don gia', 'product5'), ('don gia', 'product6'), ('don gia', 'product7'), ('don gia', 'product8'), ('don gia', 'product9')]\n"
     ]
    }
   ],
   "source": [
    "list=[] \n",
    "\n",
    "list=PriceByMonth.columns.values.tolist() \n",
    "print(list)"
   ]
  },
  {
   "cell_type": "code",
   "execution_count": 18,
   "metadata": {},
   "outputs": [
    {
     "data": {
      "image/png": "[encoded data removed]",
      "text/plain": [
       "<Figure size 1080x2520 with 88 Axes>"
      ]
     },
     "metadata": {
      "needs_background": "light"
     },
     "output_type": "display_data"
    }
   ],
   "source": [
    "import matplotlib.pyplot as plt\n",
    "PriceByMonth[list].hist(figsize=(15,35), layout=(22, 4));\n",
    "plt.subplots_adjust(hspace=1.5) #khoang cach giua cac chart\n"
   ]
  },
  {
   "cell_type": "markdown",
   "metadata": {},
   "source": [
    "# DETECT ANOMALY PRICE "
   ]
  },
  {
   "cell_type": "code",
   "execution_count": 19,
   "metadata": {},
   "outputs": [],
   "source": [
    "data['75%_price_BB']=data['Price']*0.75\n",
    "data['125%_price_BB']=data['Price']*1.25"
   ]
  },
  {
   "cell_type": "code",
   "execution_count": 20,
   "metadata": {},
   "outputs": [],
   "source": [
    "#import library\n",
    "import numpy as np\n",
    "import matplotlib.pyplot as plt\n",
    "import seaborn as sns"
   ]
  },
  {
   "cell_type": "code",
   "execution_count": 21,
   "metadata": {},
   "outputs": [],
   "source": [
    "data_display=data[['ma hang BB','don gia','75%_price_BB','125%_price_BB']]\n"
   ]
  },
  {
   "cell_type": "code",
   "execution_count": 22,
   "metadata": {},
   "outputs": [
    {
     "data": {
      "text/plain": [
       "['product1',\n",
       " 'product2',\n",
       " 'product3',\n",
       " 'product4',\n",
       " 'product5',\n",
       " 'product6',\n",
       " 'product7',\n",
       " 'product8',\n",
       " 'product9',\n",
       " 'product10']"
      ]
     },
     "execution_count": 22,
     "metadata": {},
     "output_type": "execute_result"
    }
   ],
   "source": [
    "list=data_display['ma hang BB'].unique().tolist()\n",
    "list[0:10]"
   ]
  },
  {
   "cell_type": "code",
   "execution_count": 23,
   "metadata": {},
   "outputs": [
    {
     "data": {
      "image/png": "[encoded data removed]",
      "text/plain": [
       "<Figure size 432x288 with 1 Axes>"
      ]
     },
     "metadata": {
      "needs_background": "light"
     },
     "output_type": "display_data"
    },
    {
     "data": {
      "image/png": "[encoded data removed]",
      "text/plain": [
       "<Figure size 432x288 with 1 Axes>"
      ]
     },
     "metadata": {
      "needs_background": "light"
     },
     "output_type": "display_data"
    },
    {
     "data": {
      "image/png": "[encoded data removed]",
      "text/plain": [
       "<Figure size 432x288 with 1 Axes>"
      ]
     },
     "metadata": {
      "needs_background": "light"
     },
     "output_type": "display_data"
    },
    {
     "data": {
      "image/png": "[encoded data removed]",
      "text/plain": [
       "<Figure size 432x288 with 1 Axes>"
      ]
     },
     "metadata": {
      "needs_background": "light"
     },
     "output_type": "display_data"
    },
    {
     "data": {
      "image/png": "[encoded data removed]",
      "text/plain": [
       "<Figure size 432x288 with 1 Axes>"
      ]
     },
     "metadata": {
      "needs_background": "light"
     },
     "output_type": "display_data"
    },
    {
     "data": {
      "image/png": "[encoded data removed]",
      "text/plain": [
       "<Figure size 432x288 with 1 Axes>"
      ]
     },
     "metadata": {
      "needs_background": "light"
     },
     "output_type": "display_data"
    },
    {
     "data": {
      "image/png": "[encoded data removed]",
      "text/plain": [
       "<Figure size 432x288 with 1 Axes>"
      ]
     },
     "metadata": {
      "needs_background": "light"
     },
     "output_type": "display_data"
    },
    {
     "data": {
      "image/png": "[encoded data removed]",
      "text/plain": [
       "<Figure size 432x288 with 1 Axes>"
      ]
     },
     "metadata": {
      "needs_background": "light"
     },
     "output_type": "display_data"
    },
    {
     "data": {
      "image/png": "[encoded data removed]",
      "text/plain": [
       "<Figure size 432x288 with 1 Axes>"
      ]
     },
     "metadata": {
      "needs_background": "light"
     },
     "output_type": "display_data"
    },
    {
     "data": {
      "image/png": "[encoded data removed]",
      "text/plain": [
       "<Figure size 432x288 with 1 Axes>"
      ]
     },
     "metadata": {
      "needs_background": "light"
     },
     "output_type": "display_data"
    },
    {
     "data": {
      "image/png": "[encoded data removed]",
      "text/plain": [
       "<Figure size 432x288 with 1 Axes>"
      ]
     },
     "metadata": {
      "needs_background": "light"
     },
     "output_type": "display_data"
    },
    {
     "data": {
      "image/png": "[encoded data removed]",
      "text/plain": [
       "<Figure size 432x288 with 1 Axes>"
      ]
     },
     "metadata": {
      "needs_background": "light"
     },
     "output_type": "display_data"
    },
    {
     "data": {
      "image/png": "[encoded data removed]",
      "text/plain": [
       "<Figure size 432x288 with 1 Axes>"
      ]
     },
     "metadata": {
      "needs_background": "light"
     },
     "output_type": "display_data"
    },
    {
     "data": {
      "image/png": "[encoded data removed]",
      "text/plain": [
       "<Figure size 432x288 with 1 Axes>"
      ]
     },
     "metadata": {
      "needs_background": "light"
     },
     "output_type": "display_data"
    },
    {
     "data": {
      "image/png": "[encoded data removed]",
      "text/plain": [
       "<Figure size 432x288 with 1 Axes>"
      ]
     },
     "metadata": {
      "needs_background": "light"
     },
     "output_type": "display_data"
    },
    {
     "data": {
      "image/png": "[encoded data removed]",
      "text/plain": [
       "<Figure size 432x288 with 1 Axes>"
      ]
     },
     "metadata": {
      "needs_background": "light"
     },
     "output_type": "display_data"
    },
    {
     "data": {
      "image/png": "[encoded data removed]",
      "text/plain": [
       "<Figure size 432x288 with 1 Axes>"
      ]
     },
     "metadata": {
      "needs_background": "light"
     },
     "output_type": "display_data"
    }
   ],
   "source": [
    "for i in range(len(list)):\n",
    "    df=data_display.loc[data_display['ma hang BB']==list[i]]\n",
    "    ax = df['don gia'].hist()\n",
    "    plt.axvspan(0 ,df['75%_price_BB'].min(),alpha=0.2, color='r') #alpha là tranparent\n",
    "    plt.axvspan(df['125%_price_BB'].max() ,df['don gia'].max()*1.5,alpha=0.2, color='r') #alpha là tranparent\n",
    "    plt.title(\"product code= \"+list[i])\n",
    "    plt.show()"
   ]
  }
 ],
 "metadata": {
  "kernelspec": {
   "display_name": "Python 3",
   "language": "python",
   "name": "python3"
  },
  "language_info": {
   "codemirror_mode": {
    "name": "ipython",
    "version": 3
   },
   "file_extension": ".py",
   "mimetype": "text/x-python",
   "name": "python",
   "nbconvert_exporter": "python",
   "pygments_lexer": "ipython3",
   "version": "3.8.3"
  }
 },
 "nbformat": 4,
 "nbformat_minor": 4
}
